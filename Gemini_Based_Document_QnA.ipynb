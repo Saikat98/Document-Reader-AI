{
  "nbformat": 4,
  "nbformat_minor": 0,
  "metadata": {
    "colab": {
      "provenance": []
    },
    "kernelspec": {
      "name": "python3",
      "display_name": "Python 3"
    },
    "language_info": {
      "name": "python"
    },
    "widgets": {
      "application/vnd.jupyter.widget-state+json": {
        "b2ff149bfeb94a79ad9a4f6230f05724": {
          "model_module": "@jupyter-widgets/controls",
          "model_name": "VBoxModel",
          "model_module_version": "1.5.0",
          "state": {
            "_dom_classes": [],
            "_model_module": "@jupyter-widgets/controls",
            "_model_module_version": "1.5.0",
            "_model_name": "VBoxModel",
            "_view_count": null,
            "_view_module": "@jupyter-widgets/controls",
            "_view_module_version": "1.5.0",
            "_view_name": "VBoxView",
            "box_style": "",
            "children": [
              "IPY_MODEL_d67214ea30694370b27cdab9c5cb6ce0",
              "IPY_MODEL_de758522c5bb46ccb98ea8c57b388f64"
            ],
            "layout": "IPY_MODEL_34d2d8e0749445feb80beaf221a0052f"
          }
        },
        "d67214ea30694370b27cdab9c5cb6ce0": {
          "model_module": "@jupyter-widgets/controls",
          "model_name": "HBoxModel",
          "model_module_version": "1.5.0",
          "state": {
            "_dom_classes": [
              "custom-container"
            ],
            "_model_module": "@jupyter-widgets/controls",
            "_model_module_version": "1.5.0",
            "_model_name": "HBoxModel",
            "_view_count": null,
            "_view_module": "@jupyter-widgets/controls",
            "_view_module_version": "1.5.0",
            "_view_name": "HBoxView",
            "box_style": "",
            "children": [
              "IPY_MODEL_d7f383af679c4e47b8e3cd7a18c1dd36",
              "IPY_MODEL_a2bc35b285d34a58bf294aa6b531906c"
            ],
            "layout": "IPY_MODEL_96cf00e4cecc47e3920e8242869ea82f"
          }
        },
        "de758522c5bb46ccb98ea8c57b388f64": {
          "model_module": "@jupyter-widgets/controls",
          "model_name": "TextareaModel",
          "model_module_version": "1.5.0",
          "state": {
            "_dom_classes": [],
            "_model_module": "@jupyter-widgets/controls",
            "_model_module_version": "1.5.0",
            "_model_name": "TextareaModel",
            "_view_count": null,
            "_view_module": "@jupyter-widgets/controls",
            "_view_module_version": "1.5.0",
            "_view_name": "TextareaView",
            "continuous_update": true,
            "description": "",
            "description_tooltip": null,
            "disabled": true,
            "layout": "IPY_MODEL_814da3e2d9404ba399b452703238d233",
            "placeholder": "Model results will be displayed here..",
            "rows": null,
            "style": "IPY_MODEL_724ccb10ca7c49ef8ceb37356603c5d8",
            "value": "The conversation discussed the connoisseurs segment of the player base.  The hypothesis about them was that there was a subgroup within the connoisseur category that spent more time on invasions.  The speaker thought that this was a possibility because they were surprised to find a group of players who were only playing in the classic towers and weren't playing the story or online. \n"
          }
        },
        "34d2d8e0749445feb80beaf221a0052f": {
          "model_module": "@jupyter-widgets/base",
          "model_name": "LayoutModel",
          "model_module_version": "1.2.0",
          "state": {
            "_model_module": "@jupyter-widgets/base",
            "_model_module_version": "1.2.0",
            "_model_name": "LayoutModel",
            "_view_count": null,
            "_view_module": "@jupyter-widgets/base",
            "_view_module_version": "1.2.0",
            "_view_name": "LayoutView",
            "align_content": null,
            "align_items": null,
            "align_self": null,
            "border": null,
            "bottom": null,
            "display": null,
            "flex": null,
            "flex_flow": null,
            "grid_area": null,
            "grid_auto_columns": null,
            "grid_auto_flow": null,
            "grid_auto_rows": null,
            "grid_column": null,
            "grid_gap": null,
            "grid_row": null,
            "grid_template_areas": null,
            "grid_template_columns": null,
            "grid_template_rows": null,
            "height": null,
            "justify_content": null,
            "justify_items": null,
            "left": null,
            "margin": null,
            "max_height": null,
            "max_width": null,
            "min_height": null,
            "min_width": null,
            "object_fit": null,
            "object_position": null,
            "order": null,
            "overflow": null,
            "overflow_x": null,
            "overflow_y": null,
            "padding": null,
            "right": null,
            "top": null,
            "visibility": null,
            "width": null
          }
        },
        "d7f383af679c4e47b8e3cd7a18c1dd36": {
          "model_module": "@jupyter-widgets/controls",
          "model_name": "TextareaModel",
          "model_module_version": "1.5.0",
          "state": {
            "_dom_classes": [],
            "_model_module": "@jupyter-widgets/controls",
            "_model_module_version": "1.5.0",
            "_model_name": "TextareaModel",
            "_view_count": null,
            "_view_module": "@jupyter-widgets/controls",
            "_view_module_version": "1.5.0",
            "_view_name": "TextareaView",
            "continuous_update": true,
            "description": "",
            "description_tooltip": null,
            "disabled": false,
            "layout": "IPY_MODEL_7abd9b12c8df4c5aa15b34da55c2f518",
            "placeholder": "Type something",
            "rows": null,
            "style": "IPY_MODEL_6a53f55e866f405cb92f6d200ab97a83",
            "value": "What was the conversation about connoisseurs? Describe the hypothesis related to that segment"
          }
        },
        "a2bc35b285d34a58bf294aa6b531906c": {
          "model_module": "@jupyter-widgets/controls",
          "model_name": "ButtonModel",
          "model_module_version": "1.5.0",
          "state": {
            "_dom_classes": [
              "custom-button"
            ],
            "_model_module": "@jupyter-widgets/controls",
            "_model_module_version": "1.5.0",
            "_model_name": "ButtonModel",
            "_view_count": null,
            "_view_module": "@jupyter-widgets/controls",
            "_view_module_version": "1.5.0",
            "_view_name": "ButtonView",
            "button_style": "",
            "description": "Ask Gemini",
            "disabled": false,
            "icon": "check",
            "layout": "IPY_MODEL_d2acfeff2ad644fbae7f43e1f6a756b7",
            "style": "IPY_MODEL_92781bd881fa4f49b6428154ddee11cf",
            "tooltip": "Click me"
          }
        },
        "96cf00e4cecc47e3920e8242869ea82f": {
          "model_module": "@jupyter-widgets/base",
          "model_name": "LayoutModel",
          "model_module_version": "1.2.0",
          "state": {
            "_model_module": "@jupyter-widgets/base",
            "_model_module_version": "1.2.0",
            "_model_name": "LayoutModel",
            "_view_count": null,
            "_view_module": "@jupyter-widgets/base",
            "_view_module_version": "1.2.0",
            "_view_name": "LayoutView",
            "align_content": null,
            "align_items": null,
            "align_self": null,
            "border": null,
            "bottom": null,
            "display": null,
            "flex": null,
            "flex_flow": null,
            "grid_area": null,
            "grid_auto_columns": null,
            "grid_auto_flow": null,
            "grid_auto_rows": null,
            "grid_column": null,
            "grid_gap": null,
            "grid_row": null,
            "grid_template_areas": null,
            "grid_template_columns": null,
            "grid_template_rows": null,
            "height": null,
            "justify_content": null,
            "justify_items": null,
            "left": null,
            "margin": null,
            "max_height": null,
            "max_width": null,
            "min_height": null,
            "min_width": null,
            "object_fit": null,
            "object_position": null,
            "order": null,
            "overflow": null,
            "overflow_x": null,
            "overflow_y": null,
            "padding": null,
            "right": null,
            "top": null,
            "visibility": null,
            "width": null
          }
        },
        "814da3e2d9404ba399b452703238d233": {
          "model_module": "@jupyter-widgets/base",
          "model_name": "LayoutModel",
          "model_module_version": "1.2.0",
          "state": {
            "_model_module": "@jupyter-widgets/base",
            "_model_module_version": "1.2.0",
            "_model_name": "LayoutModel",
            "_view_count": null,
            "_view_module": "@jupyter-widgets/base",
            "_view_module_version": "1.2.0",
            "_view_name": "LayoutView",
            "align_content": null,
            "align_items": null,
            "align_self": null,
            "border": null,
            "bottom": null,
            "display": null,
            "flex": null,
            "flex_flow": null,
            "grid_area": null,
            "grid_auto_columns": null,
            "grid_auto_flow": null,
            "grid_auto_rows": null,
            "grid_column": null,
            "grid_gap": null,
            "grid_row": null,
            "grid_template_areas": null,
            "grid_template_columns": null,
            "grid_template_rows": null,
            "height": "120px",
            "justify_content": null,
            "justify_items": null,
            "left": null,
            "margin": "10px 0 0 0",
            "max_height": null,
            "max_width": null,
            "min_height": null,
            "min_width": null,
            "object_fit": null,
            "object_position": null,
            "order": null,
            "overflow": null,
            "overflow_x": null,
            "overflow_y": null,
            "padding": null,
            "right": null,
            "top": null,
            "visibility": null,
            "width": "713px"
          }
        },
        "724ccb10ca7c49ef8ceb37356603c5d8": {
          "model_module": "@jupyter-widgets/controls",
          "model_name": "DescriptionStyleModel",
          "model_module_version": "1.5.0",
          "state": {
            "_model_module": "@jupyter-widgets/controls",
            "_model_module_version": "1.5.0",
            "_model_name": "DescriptionStyleModel",
            "_view_count": null,
            "_view_module": "@jupyter-widgets/base",
            "_view_module_version": "1.2.0",
            "_view_name": "StyleView",
            "description_width": ""
          }
        },
        "7abd9b12c8df4c5aa15b34da55c2f518": {
          "model_module": "@jupyter-widgets/base",
          "model_name": "LayoutModel",
          "model_module_version": "1.2.0",
          "state": {
            "_model_module": "@jupyter-widgets/base",
            "_model_module_version": "1.2.0",
            "_model_name": "LayoutModel",
            "_view_count": null,
            "_view_module": "@jupyter-widgets/base",
            "_view_module_version": "1.2.0",
            "_view_name": "LayoutView",
            "align_content": null,
            "align_items": null,
            "align_self": null,
            "border": null,
            "bottom": null,
            "display": null,
            "flex": null,
            "flex_flow": null,
            "grid_area": null,
            "grid_auto_columns": null,
            "grid_auto_flow": null,
            "grid_auto_rows": null,
            "grid_column": null,
            "grid_gap": null,
            "grid_row": null,
            "grid_template_areas": null,
            "grid_template_columns": null,
            "grid_template_rows": null,
            "height": "40px",
            "justify_content": null,
            "justify_items": null,
            "left": null,
            "margin": null,
            "max_height": null,
            "max_width": null,
            "min_height": null,
            "min_width": null,
            "object_fit": null,
            "object_position": null,
            "order": null,
            "overflow": null,
            "overflow_x": null,
            "overflow_y": null,
            "padding": null,
            "right": null,
            "top": null,
            "visibility": null,
            "width": "600px"
          }
        },
        "6a53f55e866f405cb92f6d200ab97a83": {
          "model_module": "@jupyter-widgets/controls",
          "model_name": "DescriptionStyleModel",
          "model_module_version": "1.5.0",
          "state": {
            "_model_module": "@jupyter-widgets/controls",
            "_model_module_version": "1.5.0",
            "_model_name": "DescriptionStyleModel",
            "_view_count": null,
            "_view_module": "@jupyter-widgets/base",
            "_view_module_version": "1.2.0",
            "_view_name": "StyleView",
            "description_width": ""
          }
        },
        "d2acfeff2ad644fbae7f43e1f6a756b7": {
          "model_module": "@jupyter-widgets/base",
          "model_name": "LayoutModel",
          "model_module_version": "1.2.0",
          "state": {
            "_model_module": "@jupyter-widgets/base",
            "_model_module_version": "1.2.0",
            "_model_name": "LayoutModel",
            "_view_count": null,
            "_view_module": "@jupyter-widgets/base",
            "_view_module_version": "1.2.0",
            "_view_name": "LayoutView",
            "align_content": null,
            "align_items": null,
            "align_self": null,
            "border": null,
            "bottom": null,
            "display": null,
            "flex": null,
            "flex_flow": null,
            "grid_area": null,
            "grid_auto_columns": null,
            "grid_auto_flow": null,
            "grid_auto_rows": null,
            "grid_column": null,
            "grid_gap": null,
            "grid_row": null,
            "grid_template_areas": null,
            "grid_template_columns": null,
            "grid_template_rows": null,
            "height": "40px",
            "justify_content": null,
            "justify_items": null,
            "left": null,
            "margin": "0 0 0 10px",
            "max_height": null,
            "max_width": null,
            "min_height": null,
            "min_width": null,
            "object_fit": null,
            "object_position": null,
            "order": null,
            "overflow": null,
            "overflow_x": null,
            "overflow_y": null,
            "padding": null,
            "right": null,
            "top": null,
            "visibility": null,
            "width": null
          }
        },
        "92781bd881fa4f49b6428154ddee11cf": {
          "model_module": "@jupyter-widgets/controls",
          "model_name": "ButtonStyleModel",
          "model_module_version": "1.5.0",
          "state": {
            "_model_module": "@jupyter-widgets/controls",
            "_model_module_version": "1.5.0",
            "_model_name": "ButtonStyleModel",
            "_view_count": null,
            "_view_module": "@jupyter-widgets/base",
            "_view_module_version": "1.2.0",
            "_view_name": "StyleView",
            "button_color": null,
            "font_weight": ""
          }
        }
      }
    }
  },
  "cells": [
    {
      "cell_type": "code",
      "source": [
        "# @title Licensed under the Apache License, Version 2.0 (the \"License\");\n",
        "# you may not use this file except in compliance with the License.\n",
        "# You may obtain a copy of the License at\n",
        "#\n",
        "# https://www.apache.org/licenses/LICENSE-2.0\n",
        "#\n",
        "# Unless required by applicable law or agreed to in writing, software\n",
        "# distributed under the License is distributed on an \"AS IS\" BASIS,\n",
        "# WITHOUT WARRANTIES OR CONDITIONS OF ANY KIND, either express or implied.\n",
        "# See the License for the specific language governing permissions and\n",
        "# limitations under the License."
      ],
      "metadata": {
        "cellView": "form",
        "id": "QM-B7dM9VSEd"
      },
      "execution_count": 81,
      "outputs": []
    },
    {
      "cell_type": "markdown",
      "source": [
        "**Objective:** This application below allows user to upload any text passage and let users ask questions based on the document uploaded; using Google Gemini's multimodal model capabilities.\n",
        "\n",
        "\n",
        ">  - Gemini can make mistakes\n",
        ">  - The free trial Gemini API uses the data for their training purpose aswell, so be careful while uploading data to the model\n",
        "\n"
      ],
      "metadata": {
        "id": "O37JDDMfTQea"
      }
    },
    {
      "cell_type": "markdown",
      "source": [
        "Importing libraries"
      ],
      "metadata": {
        "id": "HqaK-YP7UdXE"
      }
    },
    {
      "cell_type": "code",
      "source": [
        "import numpy as np\n",
        "import pandas as pd\n",
        "from google.colab import files\n",
        "from io import StringIO\n",
        "import textwrap\n",
        "import google.generativeai as genai\n",
        "import google.ai.generativelanguage as glm\n",
        "from google.colab import userdata\n",
        "from IPython.display import display, clear_output, Markdown\n",
        "import ipywidgets as widgets\n",
        "from IPython.core.display import HTML"
      ],
      "metadata": {
        "id": "Vf6DMORFEPxn"
      },
      "execution_count": 1,
      "outputs": []
    },
    {
      "cell_type": "markdown",
      "source": [
        "User upload file"
      ],
      "metadata": {
        "id": "7fEIaepuUoXy"
      }
    },
    {
      "cell_type": "code",
      "execution_count": 2,
      "metadata": {
        "colab": {
          "base_uri": "https://localhost:8080/",
          "height": 73
        },
        "id": "2rr1-gHmDgdR",
        "outputId": "506e14f2-9483-4198-db5d-5f3635e890cc"
      },
      "outputs": [
        {
          "output_type": "display_data",
          "data": {
            "text/plain": [
              "<IPython.core.display.HTML object>"
            ],
            "text/html": [
              "\n",
              "     <input type=\"file\" id=\"files-3c113d9d-ed27-4f73-823d-dc6f20fe4fa1\" name=\"files[]\" multiple disabled\n",
              "        style=\"border:none\" />\n",
              "     <output id=\"result-3c113d9d-ed27-4f73-823d-dc6f20fe4fa1\">\n",
              "      Upload widget is only available when the cell has been executed in the\n",
              "      current browser session. Please rerun this cell to enable.\n",
              "      </output>\n",
              "      <script>// Copyright 2017 Google LLC\n",
              "//\n",
              "// Licensed under the Apache License, Version 2.0 (the \"License\");\n",
              "// you may not use this file except in compliance with the License.\n",
              "// You may obtain a copy of the License at\n",
              "//\n",
              "//      http://www.apache.org/licenses/LICENSE-2.0\n",
              "//\n",
              "// Unless required by applicable law or agreed to in writing, software\n",
              "// distributed under the License is distributed on an \"AS IS\" BASIS,\n",
              "// WITHOUT WARRANTIES OR CONDITIONS OF ANY KIND, either express or implied.\n",
              "// See the License for the specific language governing permissions and\n",
              "// limitations under the License.\n",
              "\n",
              "/**\n",
              " * @fileoverview Helpers for google.colab Python module.\n",
              " */\n",
              "(function(scope) {\n",
              "function span(text, styleAttributes = {}) {\n",
              "  const element = document.createElement('span');\n",
              "  element.textContent = text;\n",
              "  for (const key of Object.keys(styleAttributes)) {\n",
              "    element.style[key] = styleAttributes[key];\n",
              "  }\n",
              "  return element;\n",
              "}\n",
              "\n",
              "// Max number of bytes which will be uploaded at a time.\n",
              "const MAX_PAYLOAD_SIZE = 100 * 1024;\n",
              "\n",
              "function _uploadFiles(inputId, outputId) {\n",
              "  const steps = uploadFilesStep(inputId, outputId);\n",
              "  const outputElement = document.getElementById(outputId);\n",
              "  // Cache steps on the outputElement to make it available for the next call\n",
              "  // to uploadFilesContinue from Python.\n",
              "  outputElement.steps = steps;\n",
              "\n",
              "  return _uploadFilesContinue(outputId);\n",
              "}\n",
              "\n",
              "// This is roughly an async generator (not supported in the browser yet),\n",
              "// where there are multiple asynchronous steps and the Python side is going\n",
              "// to poll for completion of each step.\n",
              "// This uses a Promise to block the python side on completion of each step,\n",
              "// then passes the result of the previous step as the input to the next step.\n",
              "function _uploadFilesContinue(outputId) {\n",
              "  const outputElement = document.getElementById(outputId);\n",
              "  const steps = outputElement.steps;\n",
              "\n",
              "  const next = steps.next(outputElement.lastPromiseValue);\n",
              "  return Promise.resolve(next.value.promise).then((value) => {\n",
              "    // Cache the last promise value to make it available to the next\n",
              "    // step of the generator.\n",
              "    outputElement.lastPromiseValue = value;\n",
              "    return next.value.response;\n",
              "  });\n",
              "}\n",
              "\n",
              "/**\n",
              " * Generator function which is called between each async step of the upload\n",
              " * process.\n",
              " * @param {string} inputId Element ID of the input file picker element.\n",
              " * @param {string} outputId Element ID of the output display.\n",
              " * @return {!Iterable<!Object>} Iterable of next steps.\n",
              " */\n",
              "function* uploadFilesStep(inputId, outputId) {\n",
              "  const inputElement = document.getElementById(inputId);\n",
              "  inputElement.disabled = false;\n",
              "\n",
              "  const outputElement = document.getElementById(outputId);\n",
              "  outputElement.innerHTML = '';\n",
              "\n",
              "  const pickedPromise = new Promise((resolve) => {\n",
              "    inputElement.addEventListener('change', (e) => {\n",
              "      resolve(e.target.files);\n",
              "    });\n",
              "  });\n",
              "\n",
              "  const cancel = document.createElement('button');\n",
              "  inputElement.parentElement.appendChild(cancel);\n",
              "  cancel.textContent = 'Cancel upload';\n",
              "  const cancelPromise = new Promise((resolve) => {\n",
              "    cancel.onclick = () => {\n",
              "      resolve(null);\n",
              "    };\n",
              "  });\n",
              "\n",
              "  // Wait for the user to pick the files.\n",
              "  const files = yield {\n",
              "    promise: Promise.race([pickedPromise, cancelPromise]),\n",
              "    response: {\n",
              "      action: 'starting',\n",
              "    }\n",
              "  };\n",
              "\n",
              "  cancel.remove();\n",
              "\n",
              "  // Disable the input element since further picks are not allowed.\n",
              "  inputElement.disabled = true;\n",
              "\n",
              "  if (!files) {\n",
              "    return {\n",
              "      response: {\n",
              "        action: 'complete',\n",
              "      }\n",
              "    };\n",
              "  }\n",
              "\n",
              "  for (const file of files) {\n",
              "    const li = document.createElement('li');\n",
              "    li.append(span(file.name, {fontWeight: 'bold'}));\n",
              "    li.append(span(\n",
              "        `(${file.type || 'n/a'}) - ${file.size} bytes, ` +\n",
              "        `last modified: ${\n",
              "            file.lastModifiedDate ? file.lastModifiedDate.toLocaleDateString() :\n",
              "                                    'n/a'} - `));\n",
              "    const percent = span('0% done');\n",
              "    li.appendChild(percent);\n",
              "\n",
              "    outputElement.appendChild(li);\n",
              "\n",
              "    const fileDataPromise = new Promise((resolve) => {\n",
              "      const reader = new FileReader();\n",
              "      reader.onload = (e) => {\n",
              "        resolve(e.target.result);\n",
              "      };\n",
              "      reader.readAsArrayBuffer(file);\n",
              "    });\n",
              "    // Wait for the data to be ready.\n",
              "    let fileData = yield {\n",
              "      promise: fileDataPromise,\n",
              "      response: {\n",
              "        action: 'continue',\n",
              "      }\n",
              "    };\n",
              "\n",
              "    // Use a chunked sending to avoid message size limits. See b/62115660.\n",
              "    let position = 0;\n",
              "    do {\n",
              "      const length = Math.min(fileData.byteLength - position, MAX_PAYLOAD_SIZE);\n",
              "      const chunk = new Uint8Array(fileData, position, length);\n",
              "      position += length;\n",
              "\n",
              "      const base64 = btoa(String.fromCharCode.apply(null, chunk));\n",
              "      yield {\n",
              "        response: {\n",
              "          action: 'append',\n",
              "          file: file.name,\n",
              "          data: base64,\n",
              "        },\n",
              "      };\n",
              "\n",
              "      let percentDone = fileData.byteLength === 0 ?\n",
              "          100 :\n",
              "          Math.round((position / fileData.byteLength) * 100);\n",
              "      percent.textContent = `${percentDone}% done`;\n",
              "\n",
              "    } while (position < fileData.byteLength);\n",
              "  }\n",
              "\n",
              "  // All done.\n",
              "  yield {\n",
              "    response: {\n",
              "      action: 'complete',\n",
              "    }\n",
              "  };\n",
              "}\n",
              "\n",
              "scope.google = scope.google || {};\n",
              "scope.google.colab = scope.google.colab || {};\n",
              "scope.google.colab._files = {\n",
              "  _uploadFiles,\n",
              "  _uploadFilesContinue,\n",
              "};\n",
              "})(self);\n",
              "</script> "
            ]
          },
          "metadata": {}
        },
        {
          "output_type": "stream",
          "name": "stdout",
          "text": [
            "Saving conversation.txt to conversation.txt\n"
          ]
        }
      ],
      "source": [
        "# upload .txt file only\n",
        "def upload_file():\n",
        "    uploaded = files.upload()\n",
        "    for filename in uploaded.keys():\n",
        "        passage = uploaded[filename].decode(\"utf-8\")\n",
        "        return passage\n",
        "\n",
        "passage = upload_file()"
      ]
    },
    {
      "cell_type": "code",
      "source": [
        "# check how the document looks like\n",
        "Markdown(passage)"
      ],
      "metadata": {
        "colab": {
          "base_uri": "https://localhost:8080/",
          "height": 1000
        },
        "id": "XQRdJtznExGR",
        "outputId": "749d76e3-55cc-4a28-f08a-61c7753bbcce"
      },
      "execution_count": 3,
      "outputs": [
        {
          "output_type": "execute_result",
          "data": {
            "text/plain": [
              "<IPython.core.display.Markdown object>"
            ],
            "text/markdown": "00:00\r\nWell, the completion rates are outside. Prints will be possibly through versus the second of playthrough. So that's hopeful Okay. Awesome. Yeah, this is a work in progress, but I don't know. That's where we are at right now. Now we're also kind of, uh, preparing as somebody here, uh, just for your, uh, review on what we have for August, uh, as of now, in terms of spells, we did break down, uh, the Spells uh, you know, uh, with respect to spell views that are spills used inside combat versus when you're not, not in a combat while still using those spells.\r\n\r\n00:34\r\nThe link but you can go to and you know in this table in the conjugation you can combat out of combat control in combat out of convert but you know, considerations you can't really use inside combat. So this is I we believe that this is a delivery tracking issue.\r\n\r\n00:50\r\nBut let's start. Or maybe how do we know if if just hitting the button in combat tracks? It, you know like says it's an in combat usage because I could hit the spell button by mistake so it could be that too. Yeah, you can. But this is uh, for consulation spell specifically um not sure.\r\n\r\n01:12\r\nIf that is possible, but I mean if I just have it equipped I hit it on accident you know who's opposed to a difference about maybe? Anyways that's just can um can so this is by category um, Is there, can we? Do a breakdown by the specific spell because I know we have that broken out else.\r\n\r\n01:34\r\nWe know like what goes in each category. Could we do that here too? Yeah, I think we can. Yeah. Cuz that that would be helpful, I think, um, Yeah, knowing the category is great, but knowing what specific spells. I think there were a few key spells. We'd expect users to use more outside of combat, so more likely could use more outside combat, they could use it for exploration.\r\n\r\n02:01\r\nUh, what does replayability we have talked about? Bathroom of requirements. Okay, plants and portions. Uh, yeah. So Actually, let me go to this table. Yeah. Genetic we have a feeling that what you're saying is is right. Like there are some random, uh, portions that you get from popping pots.\r\n\r\n02:24\r\nWe can think of any other reason why? Like, from where they can get those portions. Could be but not exactly sure. Okay. And Bottles. Just a minute. The data on the far left of the chart. Let's see. Thank you. You move that over? Okay. Yeah. Level. So, which is something that you wanted to look at.\r\n\r\n03:02\r\nI guess it does make sense, because I think I think it is the hopping pot because you I don't think you can get the Felix potion from the hopping pot. So since that zero for everybody,\r\n\r\n03:22\r\nHow do you get hopping pots? You know, similar so that kind of shows a random pattern.\r\n\r\n03:44\r\nRight. So that that's pretty much it on on uh, you know, August Legacy. Uh, do take a look at this, uh, particular summary sheet, um, after sell after after row number 65, we have added some, uh, you know, comments and insights. And let us know. Awesome. Uh what else was there?\r\n\r\n04:05\r\nWhat else was outstanding from the original list that I sent you? Um, there was a couple or something on butterfly butterflies and puzzle, thoughts, that is something. Oh yeah, yeah. Not not super. There was I thought there was one more. Oh dungeons. Dantans. I think it was just a matter of confirmation like whether we are using the right uh, you know, a level or not.\r\n\r\n04:32\r\nDoesn't look like we are but then again, it's a tracking issue. Uh, well let's let me let me pull up the data here real quick so I think specifically, I think you're right, I think, uh, oh, I think we basically confirmed it. The dungeons puzzle stat is not something we can use for dungeons.\r\n\r\n04:49\r\nIt's it's, you know, an arbitrary thing, they put in to track some, some specific data points. So Cool. But we don't really know what those are. I mean, it might still be useful, but it doesn't sound like it. So if we wanted to know, Uh, if we wanted to know what, Dungeons people were so there are those Karen dungeons, right?\r\n\r\n05:13\r\nThat's I think specifically what we're talking about. Um, what we do, what do we have? So that if not that puzzle's not good, or if that, that stat isn't something we can use. I know we have, um, This under open world there is like, decile locations. Those two look like some of those at least.\r\n\r\n05:39\r\nLook like, potentially the dungeon locations. Uh so if you scroll down a bit it's just a little bit. Uh, well down. Actually, it's a little up from where you are. Sorry it's row 7b2. Yeah, so those dungeons kind of look like some, like I know one is actually called Karen dungeon.\r\n\r\n06:00\r\nWhich that might be how it's named in data, but the rest that some of them do kind of look like Goblin mine, I know is one Um, God mind. Uh, Believe that our biology dungeon herbology dungeon is also one. So It seems like maybe we can track these by location.\r\n\r\n06:16\r\nUh, and we may just need to find a mapping of these specific dungeons because I think there were 13 or 15 in the game. Right. And and what exactly are you looking for here? Uh, so So specifically. So, uh, the question that came up, um, Here they are considering making more dungeon content, right?\r\n\r\n06:40\r\nThey think dungeon content it was was um Was premium. It was like this its own bespoke location that had its own puzzles and they're like yeah we want to make more of those. They are expensive but we think it's worth doing. But then the question is well did uh we see any changes in engagement Within These dungeons, right?\r\n\r\n06:58\r\nThe players end up making them all making all the way through. Did they participate in all the optional puzzles that were in the dungeon? Actually, see a higher, the players, not like them and just end up dropping off somewhere in the middle. So I think it's Trying to figure out.\r\n\r\n07:18\r\nCompletion rates. Uh, just just engagement with these engines specifically, I do think fortunately, all the dungeons are associated with a quest. So maybe like a quick shortcut might be looking at the associated Quest and um, Comparing that you know the drop off there or the drop off another Quest.\r\n\r\n07:37\r\nYeah and I I think we can do that. And this sheet itself. You're right, I think many of those dungeons are part of the quest, so I think we should have some information here. So Sandy can you like go to that question?\r\n\r\n07:56\r\nOh, Just a minute. Another list of questions here, but Yeah, here I can send you. Let me send you the and send you the the Uh, I found a reference for the quests. Uh, let's see. Like, for example, there's a cave. Uh, for the Helm of irknot main quest, you're required to explore.\r\n\r\n08:24\r\nThe collector's cave. So, That would be you know, an example. But I'll um here I'll drop the link in here but Um, that that I found that as a guide that just kind of lists out all the, the carb dungeons and the quests Associated quests. So if we can just do a quick comparison as a start, it won't tell us if players engaged with all the optional puzzles and such but um Please can give us a look.\r\n\r\n08:51\r\nOkay, so how I would recommend going about dungeons is let's create a separate tab here in this spreadsheet. Um, so Ben what you were discussing earlier? Those were the locations, right? Yes. Uh but they have nothing to do with the question that was asked during the meeting Is that correct?\r\n\r\n09:14\r\nWell, the question that was asked during the meeting was do, are players dropping off more or less with these particular pieces of content, but that has nothing to do with the locations that Exploring these dungeon quests. The completion rate for this, these dungeon Quest was the main focus of those questions, right?\r\n\r\n09:39\r\nI guess what I'm asking is the locations in which the word dungeons is, there has nothing to do with the question that was asked in that. Correct. Think so. Yeah. Okay. Uh and we can clarify that because even I have I don't have much Clarity I think We can like go back to them and like, just have a brainstorming session.\r\n\r\n10:05\r\nSo, what I would recommend is based on this article that Ben just shared. Let's put all these participation and completion rate for this quest in a separate tab. Let's call them dungeon related quests. We can just potentially just copy paste, the Other information, wherein we were discussing about the locations.\r\n\r\n10:29\r\nAnd I'll reach out to the specific person who had raised this question and we can have like 15 20 minute call to do that so that we get more understanding of what they want to get after sounds good. And then last I just um we don't have to talk about it in depth but one of the the other um, Requests, I had Sandeep was just looking at a correlation between difficulty, level played and main quest completion.\r\n\r\n10:58\r\nSo, just want to make sure that was still on the list. As well. Yeah, okay, yeah, I think right now, you have like participation by difficulty, but completion is at an overall level. So we would need the completion at the difficulty level.\r\n\r\n11:18\r\nYep. Yeah, okay. Like I was asking Sandy, is that correct? Just give me a minute. So my understanding is like, Typically players finish the game at a media medium difficulty level. So is there a relationship between If I if I like, if I go ahead in my golden path and the missions get difficult are the players, uh, moving to a lower difficulty or not.\r\n\r\n11:43\r\nSo that will kindly indicate the correlation. That that's Understanding of topic question. It's not that difficult, it's straightforward. Based on the difficulty that you have selected as a player. What has the calculation rate at that difficulty? Okay, for each missions. Got it. Okay. An overwhelming amount of players played on medium, but did the players play?\r\n\r\n12:11\r\nUneasy do more. Kind of is, yeah? Right? Right there. All right. Cool. Okay. Okay. Uh, since rawhide is here, I think we're, I think we're good on this and no, no. So uh sorry I got a bunch of more questions. Uh, this morning from a few folks at Rocksteady.\r\n\r\n12:30\r\nSo I think we have answers to many of them. Then I just shared that in slack with you. So yeah, what I would do is Take that as a new action item. Yeah. Um, my understanding is that we should have at least like 50 of those answered. Um, like difficulty field guides Combat trials, Merlin trials.\r\n\r\n13:06\r\nUm, we should have like very basic information for most of these. So, what I would do is All these follow-up questions, the first set of follow-up questions that we had from the meeting. And then this new set of follow-up questions, let's just put everything Uh, in one tab or in one sheet, whatever a fine wants to do and then we can get back to them with all of them and I'll try to schedule a call.\r\n\r\n13:40\r\nLater this week probably on Friday just to give them an update. Like these are some of the answers we are still investigating and at the same time we can get Some cross questions to them, in terms of what they want to achieve by answering this, Okay.\r\n\r\n14:01\r\nSo I I will uh take a pass through first and just see what we have already and if we need anything else Sandy, but I'll um, I'll throw that to you. Okay, for sure. Thanks. Thanks. Now, moving to Yeah, layer segmentation. Yeah. Right. So we have the results. I mean, we collected all the cohorts together and this is the result that we uh, have we created the tech for you guys as well.\r\n\r\n14:36\r\nUm, Just a minute. That's kind of a commenting on, uh, you know, the different segments that definitions the cohorts that we have used, um, the time period for those cohorts. So quite quite well, yeah, so did the results come in? Very Similar in terms of like the segments. Yeah, I know they were starting the profiling exercise was the profiling exercise a bit different.\r\n\r\n15:09\r\nCompared to mk11 it looks like it's the same but anything outstanding or anything very different than M Galore. Was pretty much similar to mk11 in terms of the Profiles. We got and yeah in general it was almost similar only thing being different is The invasion which is different, right?\r\n\r\n15:32\r\nSo the connectors segment ended up spending most time in Invasion. That is the only significant difference from the cohorts, or the segments we had in mklib.\r\n\r\n15:54\r\nUm, can you put the percentages also for these players and instead of tower players can you call them invasions or PVE players? Uh, the tower players aren't Invasion players. Those are I asked that question yesterday. Those are the players who are playing in the um, the towers mode, specifically like the static.\r\n\r\n16:14\r\nYeah. So then\r\n\r\n16:21\r\nSo, these are like Classic tiles.\r\n\r\n16:44\r\nSo what was this person? Do we have the similar deck for the same time period? The first iteration of segmentation that we did in MK11 which A similar breakdown of players. Wherein, we took more players from the First four weeks and then next two weeks and then the last week, Yeah, for the same time period, we do have Hydration over MK11.\r\n\r\n17:10\r\nYeah, so what was the percentage time spent in? Uh, towers for that.\r\n\r\n17:26\r\nSo then you use the tagging here for game mode. So Tower was specifically Classic Towers correct? Yeah, yeah.\r\n\r\n18:14\r\nUh, the percentage time spent in Towers it. So that is 41 for the tower players. 41 percent. No, no for the connoisseurs. The percentage time spent in Towers. No, no, I'm asking your uh you want the percentage time. Spent in towers for the corners. You'll say yes. 36 percent.\r\n\r\n18:49\r\nSo I guess like my question is, then what are they playing? Less of Can you send me that deck? Yeah. Yeah. I'll just sing actually.\r\n\r\n19:12\r\nMaybe we'll have to like,\r\n\r\n19:26\r\nCan you guys do like one more iteration in which you break down the connoisseurs? Maybe like so my hypothesis is that there is a sub segment within the corner store category Spend more time on invasions. Because like, right now it's looking like Um,\r\n\r\n19:59\r\nIs there a set of players that only play invasions? I don't think that's curving up from this. So my, I my, I, I got chicken. Okay. I guess is that we, that connoisseurs could break down furthers and I'm just surprised that there is a set of players about Yeah.\r\n\r\n20:23\r\nOkay. Which is about like six percent of our player base 5.5 percent of our player base who are doing nothing but playing the classic Towers which is literally like nothing they played story.\r\n\r\n20:48\r\nAnd then online, how much percentage of the audience was online? And that deck from MK level. Uh, from mk11, it was 6%. Yeah, so now that has increased to 13, which is also reflected in all the data that we have, provided that 0.7 million that we are talking about Yeah, did you send me that day?\r\n\r\n21:12\r\nYeah yeah I just shared our Outlook.\r\n\r\n21:31\r\nYeah, so how I would recommend is\r\n\r\n21:39\r\nUh, let's just do one more iteration in, which if we can break down where the set of players that were primarily focused on invasions because From this and like, identify anything number with retention for these kpis. Oh, sorry, for these segments. We didn't pull any such data. Because you might have to First tag, all the players and then find those things.\r\n\r\n22:10\r\nSo you will need Arnel to get those done. You know.\r\n\r\n22:24\r\nBelen, the total play time or total hours played as 2 G7. Okay?\r\n\r\n22:35\r\nAnd what was the percentage, okay, you sent me the deck once again. Yeah, I haven't received it but it's right now and how much was the times I guess? Can you just tell me what has changed for connoisseurs in terms of their time span Between the two games. So connoissers the total time wise.\r\n\r\n23:01\r\nIt is uh 83 Hertz. In MK11 and here it is, 28 and percentage is high. Uh the total time spent in percentage time, spent in Towers was the max 32 percent in MK11 and here, the max is on uh, Invasion rate and then the time spent\r\n\r\n23:28\r\nOffline is the second highest there, 22 percent. And here, the time spent in offline is 12 Third, highest being the story in story. They have spent 16 percent and here it is. 16 again. And, Then I think there is others 10 percent. And here others is only four percent.\r\n\r\n23:53\r\nThe remaining ones are like less than 10. Uh, online, PVP was five percent and here online, PVP seven percent and tutorial. Tutorial is eight percent and tutorial. Here is nine. Yeah, so basically instead of offline, they are playing invasions now. And we are tagging this connoisseurs, based on the fact that we had a higher spend and higher Time and yeah, combat my conversions and play time as well.\r\n\r\n24:25\r\nYeah. And if I remember, right, Yeah. So this trend was that even in MK11 that even though connoisseurs are not, The highest engaging audience in terms of play time, They are still spending more money. Ban online players. Uh, compared to online, they have spent more time. So online had Uh, spend 49 hours and connoisseurs was 83.\r\n\r\n25:01\r\nYeah. Yeah, that 83 is not correct. Maybe there needs to be a different version of that deck. Because I do remember that in that final version, what we had seen was connoisseur spend more Money. But less time than online players. Um, This was not the first version done. So in uh, MK we have run one, initial version first, couple of months this was run.\r\n\r\n25:31\r\nUh, Around jang. So basically I pulled up a deck which has exactly same time period as MK1. So where we have eight months or seven month cohorts\r\n\r\n25:48\r\nOkay.\r\n\r\n25:53\r\nYeah, anyways playtime is a metric that it's very difficult to compare between two late titles. Uh, because average was 29 and your average is Global average for playtime is 14. Yeah playtime. And not the right metric to compare because the way in which those play times are captured is not consistent between titles.\r\n\r\n26:18\r\nUm,\r\n\r\n26:34\r\n97. And how much is the combat pack conversion here?\r\n\r\n26:47\r\nYes. Yeah.\r\n\r\n26:58\r\nYeah, I I feel that that connoisseur's segment is. Did you find the Solute ratio for this. Model. Uh, we have that in the Uh Excel uh sorry, Google Sheets, run. Show me that.\r\n\r\n27:26\r\nAnd did you find like any elbow car for the entire data set? Uh we did one. I think it's not added here but uh the elbooker was not giving anything because we didn't have any sharp as it was almost like a linear curve. And lately there was light Edge at four.\r\n\r\n27:48\r\nAh, number of clusters or Okay. Um,\r\n\r\n27:57\r\nYeah, I think we have a story here. What do you think? Ben, but I just feel uh, That corner. Source is a bit weird to me.\r\n\r\n28:09\r\nAnything that's caught your eye. I'm looking at the old data right now to get a good comparison. But not initially. What what specifically do you think is weird? Specific thing to me that's weird is like in when we are comparing those two numbers like MK11 and MK1 which I have almost a similar time period and same set of cohorts.\r\n\r\n28:39\r\nUm, For connoisseurs, we had more than 97 percent. Conversion to combat back. And that population, was 15 percent. Are not 15. 758 000 divided by. 12 percent on its in the last last word.\r\n\r\n29:11\r\n12 percent, right? Yeah. And here, it's closer to 20. 18. Yeah, 60 16. Connoisseurs were there.\r\n\r\n29:27\r\nUm, and here, it's 18. So it's not that different, but how come it's 16 7?\r\n\r\n29:49\r\nYeah, that should be 12%. I don't know why in that deck, it's written 16, but it should be 12 percent. In the last slide, I'm talking about the last slide. So, I think that is a percentage of players who did some character customization. Yes. Oh, so, where are you seeing the percentage players?\r\n\r\n30:16\r\nUh, on the second slide, I think the Or the, the one, with all the the overall player segmentation Yeah. So, 12 percent players are there. And now we are saying 18 are there. So we are saying, there are more connoisseurs and we know that we had a higher conversion rate in MKA valve.\r\n\r\n30:37\r\nSo that would be the case. But I feel that within those connoisseurs, there could exist, two set of players that bought everything up front. They were pretty excited. They played the first season of invasions and then they turned Even though we have a lot of MTX spending, we have a lot of combat back conversion.\r\n\r\n30:56\r\nWe see a lot of play time on invasions. But that 18 conversion or 19 players is something that is way more than what we had there. And I feel Um, that could further break down into two different segments. I could be wrong. That's my hypothesis. But That's something that caught my eye and even in that.\r\n\r\n31:24\r\nSo if you look at that, 12 percent players Within that 12 players for connoisseurs, they had about 97 percent of them had bought the combat pack. And here. Yeah. So 97 percent of that 12. So almost all of them had bought the combat pack. And here, what we see is that the combat pack purchase is much more split.\r\n\r\n31:50\r\nSo it's just 30 percent with the console but then it's much more with campaigners Um, I think With campaigners the percentage combat pack, was about six percent. So, That has increased just fine, which makes sense to me that players across the board bought the car back content. But I just feel that that 19 and the 37 percent did that, it could be a case that within that 19 probably like eight percent of them bought 100, like 97 of them bought the combat pack and then the remaining nine to ten percent will have a lesser Conversion to combat pack as well as lesser play time.\r\n\r\n32:41\r\nProbably. In my field of the game once. So I think I would run one nutrition in which Um, I make a cluster of seven. Here was also surprising to me, is that six percent set of six percent players who wanted to still play?\r\n\r\n33:14\r\nYeah, cool. That's fine. This is good work. Thanks guys for putting this together. So send me all these documents in the email and then I will, I would first recommend running. So run two iterations. One iteration is with seven cluster and the same apis. Another nutritional probably just remove the combat pack ownership and the MTX spending.\r\n\r\n33:41\r\nRemove the two monetization kpis that we have and use xn7 clusters and see the results for that. So there are three iterations to run side mirrors for that just like same this table. Basically, that we are seeing on the screen for those three iterations. And then Once we feel comfortable, we can then go back to the analytics teams to get those Player.\r\n\r\n34:05\r\nSegments uploaded. Uh, in the database and then we can do the rest of the kpis for that. So, uh, one question. So when we are Should we also remove Early Access players? Because that would yeah. Yeah, anything related to monetization. Let's just try to do one, two, alterations six and seven clusters based on engagement games.\r\n\r\n34:35\r\nOkay, sizing will also remove number of DLC characters, so that would be four metrics.\r\n\r\n34:43\r\nNumber of DLC characters. Anything related to monetization? Just remove it makes sense. Cool. No, I had one once again. I just want to see one more thing. So in terms of limit time or percentage share, or\r\n\r\n35:09\r\nThey will it be possible for you to you guys to pull the retention data or that is not possible unless you upload the Information back into the database. We can, I guess, I think that as one more metric, I I can think through it but probably we can act it as one more metric.\r\n\r\n35:30\r\nNo, no no, no no. So basically what we will do is uh in the AED mother, we won't use that as a metric in the clustering, but we will in the AED, add one slide if they played on D30. So while calculating the 30 retention for the cluster will take uh the fraction of layers who played features that information in the analytical data set.\r\n\r\n35:51\r\nThen once the Clusters are done, then you can just re-lookup for those set of players within that. Faster and take the average. Yeah, yeah. So just put D7, D30 D60, if it is taking a lot of time to add it to the idea and then run iterations forget about it.\r\n\r\n36:13\r\nYeah. If it doesn't take time, then just add it. If it takes more time, then I would just first. Do those three iterations? Got it. And then in terms of the play time and Towers, so Konos was 36, Tower players did about 41 here using 48, but it was 12 of the population so definitely because you don't have that game mode anymore.\r\n\r\n36:38\r\nUh, it makes sense that uh, Players are born now. Sorry Tower planes were more than about 26 percent, which is just six percent now. Yeah. Uh which um I was gonna ask, is there a reason? We didn't split it between the towers of time and Classic Towers for MK11 cuz that's So, how that thing works is that you can add as many attributes.\r\n\r\n37:05\r\nProfiling is something that the model does not spit out. Like, it does not say that these set of players were Tower player. These type of players were corner so like what comes out of the model is Just this table the number that you are seeing here. Yeah, it doesn't give a name to those things.\r\n\r\n37:26\r\nYeah, I was so looking at the entail? Yeah, return iterations in which we might want to have like a separate variable with classic Towers and Towers of time, but there was not a separate group that was just focused on that. And there's always like, you can make 10 segments out of it, right?\r\n\r\n37:44\r\nLike, instead of six, we can always go with that. But the core question lies, how different are these segments? So, there are two very important things in this exercise. The first important thing is that. Each of the player within that segment should be very similar to the player other player in that set.\r\n\r\n38:05\r\nBut there should not be much variance within that segment. So, if I'm talking about averages here for a connoisseur that average should Be applicable for the entire 1 million players that you are seeing within the connoisseur Academy. Us talking about the monetizing, any of the kpi that should not have a lot of variants within that group.\r\n\r\n38:25\r\nSo that is when key metric, sorry, the key validating factor and then the other important validating factor is that These segments should be different from each other as well. So a player in the campaigner Brook should be very different than the player in the Colosse World. So now coming back to your question, if we if we try to split the tower players into classic and Towers of time that difference wouldn't have been much within those two things.\r\n\r\n38:59\r\nKasha. Like it doesn't make sense to have another segment in which everything is same except percentage time played In one segment percentage time is more in Towers classic towers and in other percentage time is more That was okay. So I'll show you when we have our 101, I'll show you that.\r\n\r\n39:22\r\nWe did the same exercise for my reverses and we had the exact same situation there. So how we dealt with it was We presented both the segments. So we had one segmentation exercise in which we had, I think seven segments. So six or seven segments and then we said that They can be further or we had like four major segments I think and then they said that they could be further soken down into six or seven segments.\r\n\r\n39:50\r\nSo he basically told that, you know, dabbler or some casual person can be broken down into these two further segments. So it's it's just a way of telling the story. Yeah.\r\n\r\n40:07\r\nPercentage time in first three days and percentage time in first seven days.\r\n\r\n40:19\r\nMaybe we have that, yes.\r\n\r\n40:24\r\nAnd I'm t11 Stadium. Uh, it was in the It was in the set of metrics they have considered, but in the final, Like, I think it was not reported. Like even if it's not in a deck, if it's in just like Excel, just send me. Right. If it's possible like all these numbers for both and K11 and MK1 and one stretch, Yeah, because I do remember those two metrics to be there, probably, and another iteration by removing it, and the numbers were similar.\r\n\r\n41:03\r\nSo I think it will be that we kept it in the beginning and we removed it later. Yeah. But what's what? I can clearly see here is that online players had a higher attention because if they spend less time in the three days and seven days, it means that they spend more time later on, which means that they spend, more time, more days in the game, which basically says that they have higher retentions.\r\n\r\n41:28\r\nWhat is surprising me is? Uh,\r\n\r\n41:41\r\nOkay, that's fine. Actually Yeah, online players didn't play much of the story. That is the only other thing that bothers me, but still like 42. How many story fights were there? There were 10 chapters or 12 chapters. And every chapter at what four fights, no.\r\n\r\n42:02\r\nThose 64 chapter. How many chapters were there in the story?\r\n\r\n42:11\r\nOr MK1.\r\n\r\n42:17\r\nSo, there are 15 chapters on each other. Has any number of fights anywhere from like I think it's four so it could be about 60. Some of them had three. So somewhere already 55 to 60. So, if I look at the completion rate for story and online players,\r\n\r\n42:50\r\nOkay, even in that it was not. All right, that's fine. But it still looks higher here. Which is what we had established. That story was better than India. Colia, so the only thing that is bothering me is that corners were Academy. So just let's run those three iterations. And I think will be in a good place to do the Later off of this thing is letting me find out all the different types of kpis for these pure segments.\r\n\r\n43:24\r\nYeah. Thanks. Thanks. All the 5.5 million players manually and then they did it like in a python script or how did you guys go about it? Yeah. Exactly one. So we pull them manually and run in Python. Starter time, how many? Uh, players were able to download So, we broke this down into, uh, three chords.\r\n\r\n43:59\r\nRight? Early mid and uh, Right? So we got them all. We got all of them in one. Go so far, one for early one for mid one for late, so we had to both rice. So what I'm trying to get at is up to 5.5 million players. It's not a big issue to run this top side of things.\r\n\r\n44:20\r\nEspecially in the case if we know what kpis you want to look at. Because the volume of Matrix for each player is limited, right? 15 20. That's the number that you pulled. Compared to how words wherein you had to pull so many different kpins. Okay, cool. Thanks. So, um, in early cohort, they were close to 4.5 million and the other ones were around 600k.\r\n\r\n44:52\r\nSo the one, the first one, uh, in the first pool, we had four point, five million roughly and the other were 600k. Yeah, so they just mention that as well. So can you go on the second slides of the 4-month? Period. And that within that four month, period, you're saying that's about 4.5 million players.\r\n\r\n45:12\r\nYeah, and then the two months and one month combined, it's the remaining 1 million years. Yeah, perfect. Okay. I think nothing of this surprises, me, most of the data looks fine. Like we were expecting that there to be more in Uh, players in the online category, which is the case we were expecting there to be a larger volume of connoisseurs, that is the case.\r\n\r\n45:45\r\nAnd in terms of campaigners, can you just quickly go back? How many campaigners were there? 20.\r\n\r\n45:57\r\nYeah. Yeah, 27. Okay.\r\n\r\n46:10\r\nOkay, I'm good. Thanks. Anything else you guys wanted to discuss?\r\n\r\n46:16\r\nUh, I think we work for today. Which we had on that. Yeah, I was just, for example. So the numbers we had I didn't see the numbers.\r\n\r\n46:42\r\nRight. So um, One, two, four, four. The original cohort, 0.33 permit.\r\n\r\n46:55\r\nOkay, so you did it separately, like, even the clustering was done separately, And that was because we didn't want we just wanted to normalize it based on the installation. Okay.\r\n\r\n47:18\r\nYeah, that's thanks. Okay. All right, thank you. Bye."
          },
          "metadata": {},
          "execution_count": 3
        }
      ]
    },
    {
      "cell_type": "markdown",
      "source": [
        "Loading Model"
      ],
      "metadata": {
        "id": "rvZou5rCU2zF"
      }
    },
    {
      "cell_type": "code",
      "source": [
        "GOOGLE_API_KEY=userdata.get('GOOGLE_API_KEY')\n",
        "genai.configure(api_key=GOOGLE_API_KEY)"
      ],
      "metadata": {
        "id": "znZjvzM5IJby"
      },
      "execution_count": 4,
      "outputs": []
    },
    {
      "cell_type": "code",
      "source": [
        "text_embedding_model = 'models/embedding-001'\n",
        "\n",
        "def make_prompt(query, relevant_passage):\n",
        "  request = genai.embed_content(\n",
        "      model=text_embedding_model,\n",
        "      content=query,\n",
        "      task_type=\"retrieval_query\"\n",
        "  )\n",
        "  escaped = relevant_passage.replace(\"'\", \"\").replace('\"', \"\").replace(\"\\n\", \" \")\n",
        "  prompt = textwrap.dedent(\"\"\"You are a helpful and informative bot that answers questions using text from the reference passage included below. \\\n",
        "  Be sure to respond in a complete sentence, being comprehensive, including all relevant background information. \\\n",
        "  However, you are talking to a non-technical audience, so be sure to break down complicated concepts and \\\n",
        "  strike a friendly and converstional tone. \\\n",
        "  If the passage is irrelevant to the answer, you may ignore it.\n",
        "  QUESTION: '{query}'\n",
        "  PASSAGE: '{relevant_passage}'\n",
        "\n",
        "    ANSWER:\n",
        "  \"\"\").format(query=query, relevant_passage=escaped)\n",
        "\n",
        "  return prompt"
      ],
      "metadata": {
        "id": "TQzhcgXtJrhO"
      },
      "execution_count": 8,
      "outputs": []
    },
    {
      "cell_type": "code",
      "source": [
        "#choose available gemini models\n",
        "for m in genai.list_models():\n",
        "  if 'generateContent' in m.supported_generation_methods:\n",
        "    print(m.name)"
      ],
      "metadata": {
        "colab": {
          "base_uri": "https://localhost:8080/",
          "height": 225
        },
        "id": "3bBItTqTKq3n",
        "outputId": "3fc0eef6-5334-42da-fe07-05ba234db248"
      },
      "execution_count": 9,
      "outputs": [
        {
          "output_type": "stream",
          "name": "stdout",
          "text": [
            "models/gemini-1.0-pro\n",
            "models/gemini-1.0-pro-001\n",
            "models/gemini-1.0-pro-latest\n",
            "models/gemini-1.0-pro-vision-latest\n",
            "models/gemini-1.5-flash\n",
            "models/gemini-1.5-flash-001\n",
            "models/gemini-1.5-flash-latest\n",
            "models/gemini-1.5-pro\n",
            "models/gemini-1.5-pro-001\n",
            "models/gemini-1.5-pro-latest\n",
            "models/gemini-pro\n",
            "models/gemini-pro-vision\n"
          ]
        }
      ]
    },
    {
      "cell_type": "code",
      "source": [
        "model = genai.GenerativeModel('models/gemini-1.5-flash')"
      ],
      "metadata": {
        "id": "kEIcO7YcKzRR"
      },
      "execution_count": 10,
      "outputs": []
    },
    {
      "cell_type": "markdown",
      "source": [
        "Creating widgets to interact"
      ],
      "metadata": {
        "id": "7yrt5kylU8mg"
      }
    },
    {
      "cell_type": "code",
      "source": [
        "# WIDGET PROPERTIES\n",
        "# Define the custom CSS style\n",
        "style = \"\"\"\n",
        "<style>\n",
        "    .custom-textarea {\n",
        "        border-radius: 8px;\n",
        "        width: 600px !important;\n",
        "        height: 40px;\n",
        "    }\n",
        "    .custom-button {\n",
        "        background-color: #378EDF;\n",
        "        color: white;\n",
        "        border: none;\n",
        "        border-radius: 8px;\n",
        "        padding: 10px 20px;\n",
        "        cursor: pointer;\n",
        "        height: 40px !important;\n",
        "        width: 100px !important;\n",
        "        display: flex;\n",
        "        align-items: center;\n",
        "        justify-content: center;\n",
        "    }\n",
        "    .custom-container {\n",
        "        display: flex;\n",
        "        align-items: center;\n",
        "    }\n",
        "    .custom-footer {\n",
        "        padding-top: 20px;\n",
        "        font-size: 24px;\n",
        "        text-align: center;\n",
        "    }\n",
        "</style>\n",
        "\"\"\"\n",
        "\n",
        "# Create text area widget with custom class\n",
        "input_text_area = widgets.Textarea(\n",
        "    value='',\n",
        "    placeholder='Type something',\n",
        "    description='',\n",
        "    disabled=False,\n",
        "    layout=widgets.Layout(width='600px', height='40px')\n",
        ")\n",
        "\n",
        "# Create a button widget with custom class\n",
        "button = widgets.Button(\n",
        "    description='Ask Gemini',\n",
        "    disabled=False,\n",
        "    button_style='',  # Custom styling will be applied via CSS\n",
        "    tooltip='Click me',\n",
        "    icon='check',\n",
        "    layout=widgets.Layout(height='40px', margin='0 0 0 10px')  # Add some space between textarea and button\n",
        ")\n",
        "button.add_class('custom-button')\n",
        "\n",
        "# Create a second text area widget to display the text_value\n",
        "output_text_area = widgets.Textarea(\n",
        "    value='',\n",
        "    placeholder='Model results will be displayed here..',\n",
        "    description='',\n",
        "    disabled=True,\n",
        "    layout=widgets.Layout(width='713px', height='120px', margin='10px 0 0 0')\n",
        ")\n",
        "output_text_area.style = {'border_radius': '10px'}"
      ],
      "metadata": {
        "id": "n5XEv38DRVSP"
      },
      "execution_count": 21,
      "outputs": []
    },
    {
      "cell_type": "code",
      "source": [
        "# Inject the custom CSS into the notebook\n",
        "display(HTML(style))\n",
        "\n",
        "query = \"\"\n",
        "\n",
        "# Define the callback function for the button\n",
        "def on_button_clicked(b):\n",
        "    global query\n",
        "    query = input_text_area.value\n",
        "\n",
        "    prompt = make_prompt(query, passage)\n",
        "    answer = model.generate_content(prompt)\n",
        "\n",
        "    output_text_area.value = answer.text\n",
        "    clear_output(wait=True)\n",
        "    display(HTML(style))\n",
        "    display(container)\n",
        "\n",
        "# Link the button to the callback function\n",
        "button.on_click(on_button_clicked)\n",
        "\n",
        "# Create a container to hold the text area and button in the same line\n",
        "input_container = widgets.HBox([input_text_area, button])\n",
        "input_container.add_class('custom-container')\n",
        "\n",
        "# Create a vertical container to stack the input container and the display text area\n",
        "container = widgets.VBox([input_container, output_text_area])\n",
        "\n",
        "# Display the widgets and the custom style\n",
        "display(container)"
      ],
      "metadata": {
        "colab": {
          "base_uri": "https://localhost:8080/",
          "height": 191,
          "referenced_widgets": [
            "b2ff149bfeb94a79ad9a4f6230f05724",
            "d67214ea30694370b27cdab9c5cb6ce0",
            "de758522c5bb46ccb98ea8c57b388f64",
            "34d2d8e0749445feb80beaf221a0052f",
            "d7f383af679c4e47b8e3cd7a18c1dd36",
            "a2bc35b285d34a58bf294aa6b531906c",
            "96cf00e4cecc47e3920e8242869ea82f",
            "814da3e2d9404ba399b452703238d233",
            "724ccb10ca7c49ef8ceb37356603c5d8",
            "7abd9b12c8df4c5aa15b34da55c2f518",
            "6a53f55e866f405cb92f6d200ab97a83",
            "d2acfeff2ad644fbae7f43e1f6a756b7",
            "92781bd881fa4f49b6428154ddee11cf"
          ]
        },
        "id": "dyMP6SYkOP82",
        "outputId": "7106195e-a1ec-4d8a-de8b-5ef9f4264b48"
      },
      "execution_count": 22,
      "outputs": [
        {
          "output_type": "display_data",
          "data": {
            "text/plain": [
              "<IPython.core.display.HTML object>"
            ],
            "text/html": [
              "\n",
              "<style>\n",
              "    .custom-textarea {\n",
              "        border-radius: 8px;\n",
              "        width: 600px !important;\n",
              "        height: 40px;\n",
              "    }\n",
              "    .custom-button {\n",
              "        background-color: #378EDF;\n",
              "        color: white;\n",
              "        border: none;\n",
              "        border-radius: 8px;\n",
              "        padding: 10px 20px;\n",
              "        cursor: pointer;\n",
              "        height: 40px !important;\n",
              "        width: 100px !important;\n",
              "        display: flex;\n",
              "        align-items: center;\n",
              "        justify-content: center;\n",
              "    }\n",
              "    .custom-container {\n",
              "        display: flex;\n",
              "        align-items: center;\n",
              "    }\n",
              "    .custom-footer {\n",
              "        padding-top: 20px;\n",
              "        font-size: 24px;\n",
              "        text-align: center;\n",
              "    }\n",
              "</style>\n"
            ]
          },
          "metadata": {}
        },
        {
          "output_type": "display_data",
          "data": {
            "text/plain": [
              "VBox(children=(HBox(children=(Textarea(value='What was the conversation about connoisseurs? Describe the hypot…"
            ],
            "application/vnd.jupyter.widget-view+json": {
              "version_major": 2,
              "version_minor": 0,
              "model_id": "b2ff149bfeb94a79ad9a4f6230f05724"
            }
          },
          "metadata": {}
        }
      ]
    },
    {
      "cell_type": "code",
      "source": [],
      "metadata": {
        "id": "ZJE1TxDLaD0D"
      },
      "execution_count": null,
      "outputs": []
    }
  ]
}